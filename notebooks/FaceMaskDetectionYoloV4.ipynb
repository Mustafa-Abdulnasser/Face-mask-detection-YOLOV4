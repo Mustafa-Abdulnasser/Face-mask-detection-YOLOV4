{
 "cells": [
  {
   "cell_type": "code",
   "execution_count": null,
   "metadata": {
    "colab": {
     "base_uri": "https://localhost:8080/"
    },
    "id": "qJvvc1scegbD",
    "outputId": "483b89a7-2fbe-4b52-804e-75dbcd657b04"
   },
   "outputs": [
    {
     "name": "stdout",
     "output_type": "stream",
     "text": [
      "/\n",
      "Mounted at /content/gdrive\n",
      "/content/gdrive/My Drive/yolov4\n"
     ]
    }
   ],
   "source": [
    " #mount drive\n",
    "%cd ..\n",
    "from google.colab import drive\n",
    "drive.mount('/content/gdrive')\n",
    "\n",
    "# this creates a symbolic link so that now the path /content/gdrive/My\\ Drive/ is equal to /mydrive\n",
    "!ln -s /content/gdrive/My\\ Drive/ /mydrive\n",
    "\n",
    "#Navigate to /mydrive/yolov4\n",
    "%cd /mydrive/yolov4"
   ]
  },
  {
   "cell_type": "code",
   "execution_count": null,
   "metadata": {
    "id": "AfQBWo81j8xt"
   },
   "outputs": [],
   "source": [
    "# !git clone https://github.com/AlexeyAB/darknet"
   ]
  },
  {
   "cell_type": "code",
   "execution_count": null,
   "metadata": {
    "colab": {
     "base_uri": "https://localhost:8080/"
    },
    "id": "AooRnuGVsiYC",
    "outputId": "f29d88f0-7760-4ac4-fc94-0bc4e07ea848"
   },
   "outputs": [
    {
     "name": "stdout",
     "output_type": "stream",
     "text": [
      "/content/gdrive/My Drive/yolov4/darknet\n"
     ]
    }
   ],
   "source": [
    "# change makefile to have GPU and OPENCV enabled\n",
    "# also set CUDNN, CUDNN_HALF and LIBSO to 1\n",
    "\n",
    "%cd darknet/\n",
    "!sed -i 's/OPENCV=0/OPENCV=1/' Makefile\n",
    "!sed -i 's/GPU=0/GPU=1/' Makefile\n",
    "!sed -i 's/CUDNN=0/CUDNN=1/' Makefile\n",
    "!sed -i 's/CUDNN_HALF=0/CUDNN_HALF=1/' Makefile\n",
    "!sed -i 's/LIBSO=0/LIBSO=1/' Makefile"
   ]
  },
  {
   "cell_type": "code",
   "execution_count": null,
   "metadata": {
    "colab": {
     "base_uri": "https://localhost:8080/"
    },
    "id": "246QhIBRsmCg",
    "outputId": "25631dc8-1524-48b9-ca15-be2ea59c81e5"
   },
   "outputs": [],
   "source": [
    "# build darknet \n",
    "!make #model.compile"
   ]
  },
  {
   "cell_type": "code",
   "execution_count": null,
   "metadata": {
    "id": "1D4l68Uwj80u"
   },
   "outputs": [],
   "source": [
    "# !wget https://github.com/AlexeyAB/darknet/releases/download/darknet_yolo_v3_optimal/yolov4.conv.137 "
   ]
  },
  {
   "cell_type": "code",
   "execution_count": null,
   "metadata": {
    "id": "GTmhMuCGsK8b"
   },
   "outputs": [],
   "source": [
    "!./darknet detector train data/obj.data data/yolov4-custom.cfg /content/gdrive/MyDrive/yolov4/yolov4.conv.137 -dont_show -map"
   ]
  },
  {
   "cell_type": "code",
   "execution_count": null,
   "metadata": {
    "id": "LBlJaqdaBnVv"
   },
   "outputs": [],
   "source": [
    "#to restart training your custom detector where you left off(using the weights that were saved last)\n",
    "\n",
    "!./darknet detector train data/obj.data data/yolov4-custom.cfg /content/gdrive/MyDrive/yolov4/training/yolov4-custom_best.weights -dont_show -map"
   ]
  },
  {
   "cell_type": "code",
   "execution_count": null,
   "metadata": {
    "id": "_EWJ1ymqsLEv"
   },
   "outputs": [],
   "source": [
    "# test mAP \n",
    "#!./darknet detector map data/obj.data data/yolov4-custom.cfg /content/gdrive/MyDrive/yolov4/training/yolov4-custom_best.weights"
   ]
  },
  {
   "cell_type": "code",
   "execution_count": null,
   "metadata": {
    "colab": {
     "base_uri": "https://localhost:8080/"
    },
    "id": "xHixzqbnoKO8",
    "outputId": "d911984d-27c4-4fdd-a7bf-f8ecc90dc54b"
   },
   "outputs": [
    {
     "name": "stdout",
     "output_type": "stream",
     "text": [
      " CUDA-version: 11080 (12000), cuDNN: 8.7.0, CUDNN_HALF=1, GPU count: 1  \n",
      " CUDNN_HALF=1 \n",
      " OpenCV version: 4.2.0\n",
      " 0 : compute_capability = 750, cudnn_half = 1, GPU: Tesla T4 \n",
      "net.optimized_memory = 0 \n",
      "mini_batch = 1, batch = 16, time_steps = 1, train = 0 \n",
      "   layer   filters  size/strd(dil)      input                output\n",
      "   0 Create CUDA-stream - 0 \n",
      " Create cudnn-handle 0 \n",
      "conv     32       3 x 3/ 1    640 x 640 x   3 ->  640 x 640 x  32 0.708 BF\n",
      "   1 conv     64       3 x 3/ 2    640 x 640 x  32 ->  320 x 320 x  64 3.775 BF\n",
      "   2 conv     64       1 x 1/ 1    320 x 320 x  64 ->  320 x 320 x  64 0.839 BF\n",
      "   3 route  1 \t\t                           ->  320 x 320 x  64 \n",
      "   4 conv     64       1 x 1/ 1    320 x 320 x  64 ->  320 x 320 x  64 0.839 BF\n",
      "   5 conv     32       1 x 1/ 1    320 x 320 x  64 ->  320 x 320 x  32 0.419 BF\n",
      "   6 conv     64       3 x 3/ 1    320 x 320 x  32 ->  320 x 320 x  64 3.775 BF\n",
      "   7 Shortcut Layer: 4,  wt = 0, wn = 0, outputs: 320 x 320 x  64 0.007 BF\n",
      "   8 conv     64       1 x 1/ 1    320 x 320 x  64 ->  320 x 320 x  64 0.839 BF\n",
      "   9 route  8 2 \t                           ->  320 x 320 x 128 \n",
      "  10 conv     64       1 x 1/ 1    320 x 320 x 128 ->  320 x 320 x  64 1.678 BF\n",
      "  11 conv    128       3 x 3/ 2    320 x 320 x  64 ->  160 x 160 x 128 3.775 BF\n",
      "  12 conv     64       1 x 1/ 1    160 x 160 x 128 ->  160 x 160 x  64 0.419 BF\n",
      "  13 route  11 \t\t                           ->  160 x 160 x 128 \n",
      "  14 conv     64       1 x 1/ 1    160 x 160 x 128 ->  160 x 160 x  64 0.419 BF\n",
      "  15 conv     64       1 x 1/ 1    160 x 160 x  64 ->  160 x 160 x  64 0.210 BF\n",
      "  16 conv     64       3 x 3/ 1    160 x 160 x  64 ->  160 x 160 x  64 1.887 BF\n",
      "  17 Shortcut Layer: 14,  wt = 0, wn = 0, outputs: 160 x 160 x  64 0.002 BF\n",
      "  18 conv     64       1 x 1/ 1    160 x 160 x  64 ->  160 x 160 x  64 0.210 BF\n",
      "  19 conv     64       3 x 3/ 1    160 x 160 x  64 ->  160 x 160 x  64 1.887 BF\n",
      "  20 Shortcut Layer: 17,  wt = 0, wn = 0, outputs: 160 x 160 x  64 0.002 BF\n",
      "  21 conv     64       1 x 1/ 1    160 x 160 x  64 ->  160 x 160 x  64 0.210 BF\n",
      "  22 route  21 12 \t                           ->  160 x 160 x 128 \n",
      "  23 conv    128       1 x 1/ 1    160 x 160 x 128 ->  160 x 160 x 128 0.839 BF\n",
      "  24 conv    256       3 x 3/ 2    160 x 160 x 128 ->   80 x  80 x 256 3.775 BF\n",
      "  25 conv    128       1 x 1/ 1     80 x  80 x 256 ->   80 x  80 x 128 0.419 BF\n",
      "  26 route  24 \t\t                           ->   80 x  80 x 256 \n",
      "  27 conv    128       1 x 1/ 1     80 x  80 x 256 ->   80 x  80 x 128 0.419 BF\n",
      "  28 conv    128       1 x 1/ 1     80 x  80 x 128 ->   80 x  80 x 128 0.210 BF\n",
      "  29 conv    128       3 x 3/ 1     80 x  80 x 128 ->   80 x  80 x 128 1.887 BF\n",
      "  30 Shortcut Layer: 27,  wt = 0, wn = 0, outputs:  80 x  80 x 128 0.001 BF\n",
      "  31 conv    128       1 x 1/ 1     80 x  80 x 128 ->   80 x  80 x 128 0.210 BF\n",
      "  32 conv    128       3 x 3/ 1     80 x  80 x 128 ->   80 x  80 x 128 1.887 BF\n",
      "  33 Shortcut Layer: 30,  wt = 0, wn = 0, outputs:  80 x  80 x 128 0.001 BF\n",
      "  34 conv    128       1 x 1/ 1     80 x  80 x 128 ->   80 x  80 x 128 0.210 BF\n",
      "  35 conv    128       3 x 3/ 1     80 x  80 x 128 ->   80 x  80 x 128 1.887 BF\n",
      "  36 Shortcut Layer: 33,  wt = 0, wn = 0, outputs:  80 x  80 x 128 0.001 BF\n",
      "  37 conv    128       1 x 1/ 1     80 x  80 x 128 ->   80 x  80 x 128 0.210 BF\n",
      "  38 conv    128       3 x 3/ 1     80 x  80 x 128 ->   80 x  80 x 128 1.887 BF\n",
      "  39 Shortcut Layer: 36,  wt = 0, wn = 0, outputs:  80 x  80 x 128 0.001 BF\n",
      "  40 conv    128       1 x 1/ 1     80 x  80 x 128 ->   80 x  80 x 128 0.210 BF\n",
      "  41 conv    128       3 x 3/ 1     80 x  80 x 128 ->   80 x  80 x 128 1.887 BF\n",
      "  42 Shortcut Layer: 39,  wt = 0, wn = 0, outputs:  80 x  80 x 128 0.001 BF\n",
      "  43 conv    128       1 x 1/ 1     80 x  80 x 128 ->   80 x  80 x 128 0.210 BF\n",
      "  44 conv    128       3 x 3/ 1     80 x  80 x 128 ->   80 x  80 x 128 1.887 BF\n",
      "  45 Shortcut Layer: 42,  wt = 0, wn = 0, outputs:  80 x  80 x 128 0.001 BF\n",
      "  46 conv    128       1 x 1/ 1     80 x  80 x 128 ->   80 x  80 x 128 0.210 BF\n",
      "  47 conv    128       3 x 3/ 1     80 x  80 x 128 ->   80 x  80 x 128 1.887 BF\n",
      "  48 Shortcut Layer: 45,  wt = 0, wn = 0, outputs:  80 x  80 x 128 0.001 BF\n",
      "  49 conv    128       1 x 1/ 1     80 x  80 x 128 ->   80 x  80 x 128 0.210 BF\n",
      "  50 conv    128       3 x 3/ 1     80 x  80 x 128 ->   80 x  80 x 128 1.887 BF\n",
      "  51 Shortcut Layer: 48,  wt = 0, wn = 0, outputs:  80 x  80 x 128 0.001 BF\n",
      "  52 conv    128       1 x 1/ 1     80 x  80 x 128 ->   80 x  80 x 128 0.210 BF\n",
      "  53 route  52 25 \t                           ->   80 x  80 x 256 \n",
      "  54 conv    256       1 x 1/ 1     80 x  80 x 256 ->   80 x  80 x 256 0.839 BF\n",
      "  55 conv    512       3 x 3/ 2     80 x  80 x 256 ->   40 x  40 x 512 3.775 BF\n",
      "  56 conv    256       1 x 1/ 1     40 x  40 x 512 ->   40 x  40 x 256 0.419 BF\n",
      "  57 route  55 \t\t                           ->   40 x  40 x 512 \n",
      "  58 conv    256       1 x 1/ 1     40 x  40 x 512 ->   40 x  40 x 256 0.419 BF\n",
      "  59 conv    256       1 x 1/ 1     40 x  40 x 256 ->   40 x  40 x 256 0.210 BF\n",
      "  60 conv    256       3 x 3/ 1     40 x  40 x 256 ->   40 x  40 x 256 1.887 BF\n",
      "  61 Shortcut Layer: 58,  wt = 0, wn = 0, outputs:  40 x  40 x 256 0.000 BF\n",
      "  62 conv    256       1 x 1/ 1     40 x  40 x 256 ->   40 x  40 x 256 0.210 BF\n",
      "  63 conv    256       3 x 3/ 1     40 x  40 x 256 ->   40 x  40 x 256 1.887 BF\n",
      "  64 Shortcut Layer: 61,  wt = 0, wn = 0, outputs:  40 x  40 x 256 0.000 BF\n",
      "  65 conv    256       1 x 1/ 1     40 x  40 x 256 ->   40 x  40 x 256 0.210 BF\n",
      "  66 conv    256       3 x 3/ 1     40 x  40 x 256 ->   40 x  40 x 256 1.887 BF\n",
      "  67 Shortcut Layer: 64,  wt = 0, wn = 0, outputs:  40 x  40 x 256 0.000 BF\n",
      "  68 conv    256       1 x 1/ 1     40 x  40 x 256 ->   40 x  40 x 256 0.210 BF\n",
      "  69 conv    256       3 x 3/ 1     40 x  40 x 256 ->   40 x  40 x 256 1.887 BF\n",
      "  70 Shortcut Layer: 67,  wt = 0, wn = 0, outputs:  40 x  40 x 256 0.000 BF\n",
      "  71 conv    256       1 x 1/ 1     40 x  40 x 256 ->   40 x  40 x 256 0.210 BF\n",
      "  72 conv    256       3 x 3/ 1     40 x  40 x 256 ->   40 x  40 x 256 1.887 BF\n",
      "  73 Shortcut Layer: 70,  wt = 0, wn = 0, outputs:  40 x  40 x 256 0.000 BF\n",
      "  74 conv    256       1 x 1/ 1     40 x  40 x 256 ->   40 x  40 x 256 0.210 BF\n",
      "  75 conv    256       3 x 3/ 1     40 x  40 x 256 ->   40 x  40 x 256 1.887 BF\n",
      "  76 Shortcut Layer: 73,  wt = 0, wn = 0, outputs:  40 x  40 x 256 0.000 BF\n",
      "  77 conv    256       1 x 1/ 1     40 x  40 x 256 ->   40 x  40 x 256 0.210 BF\n",
      "  78 conv    256       3 x 3/ 1     40 x  40 x 256 ->   40 x  40 x 256 1.887 BF\n",
      "  79 Shortcut Layer: 76,  wt = 0, wn = 0, outputs:  40 x  40 x 256 0.000 BF\n",
      "  80 conv    256       1 x 1/ 1     40 x  40 x 256 ->   40 x  40 x 256 0.210 BF\n",
      "  81 conv    256       3 x 3/ 1     40 x  40 x 256 ->   40 x  40 x 256 1.887 BF\n",
      "  82 Shortcut Layer: 79,  wt = 0, wn = 0, outputs:  40 x  40 x 256 0.000 BF\n",
      "  83 conv    256       1 x 1/ 1     40 x  40 x 256 ->   40 x  40 x 256 0.210 BF\n",
      "  84 route  83 56 \t                           ->   40 x  40 x 512 \n",
      "  85 conv    512       1 x 1/ 1     40 x  40 x 512 ->   40 x  40 x 512 0.839 BF\n",
      "  86 conv   1024       3 x 3/ 2     40 x  40 x 512 ->   20 x  20 x1024 3.775 BF\n",
      "  87 conv    512       1 x 1/ 1     20 x  20 x1024 ->   20 x  20 x 512 0.419 BF\n",
      "  88 route  86 \t\t                           ->   20 x  20 x1024 \n",
      "  89 conv    512       1 x 1/ 1     20 x  20 x1024 ->   20 x  20 x 512 0.419 BF\n",
      "  90 conv    512       1 x 1/ 1     20 x  20 x 512 ->   20 x  20 x 512 0.210 BF\n",
      "  91 conv    512       3 x 3/ 1     20 x  20 x 512 ->   20 x  20 x 512 1.887 BF\n",
      "  92 Shortcut Layer: 89,  wt = 0, wn = 0, outputs:  20 x  20 x 512 0.000 BF\n",
      "  93 conv    512       1 x 1/ 1     20 x  20 x 512 ->   20 x  20 x 512 0.210 BF\n",
      "  94 conv    512       3 x 3/ 1     20 x  20 x 512 ->   20 x  20 x 512 1.887 BF\n",
      "  95 Shortcut Layer: 92,  wt = 0, wn = 0, outputs:  20 x  20 x 512 0.000 BF\n",
      "  96 conv    512       1 x 1/ 1     20 x  20 x 512 ->   20 x  20 x 512 0.210 BF\n",
      "  97 conv    512       3 x 3/ 1     20 x  20 x 512 ->   20 x  20 x 512 1.887 BF\n",
      "  98 Shortcut Layer: 95,  wt = 0, wn = 0, outputs:  20 x  20 x 512 0.000 BF\n",
      "  99 conv    512       1 x 1/ 1     20 x  20 x 512 ->   20 x  20 x 512 0.210 BF\n",
      " 100 conv    512       3 x 3/ 1     20 x  20 x 512 ->   20 x  20 x 512 1.887 BF\n",
      " 101 Shortcut Layer: 98,  wt = 0, wn = 0, outputs:  20 x  20 x 512 0.000 BF\n",
      " 102 conv    512       1 x 1/ 1     20 x  20 x 512 ->   20 x  20 x 512 0.210 BF\n",
      " 103 route  102 87 \t                           ->   20 x  20 x1024 \n",
      " 104 conv   1024       1 x 1/ 1     20 x  20 x1024 ->   20 x  20 x1024 0.839 BF\n",
      " 105 conv    512       1 x 1/ 1     20 x  20 x1024 ->   20 x  20 x 512 0.419 BF\n",
      " 106 conv   1024       3 x 3/ 1     20 x  20 x 512 ->   20 x  20 x1024 3.775 BF\n",
      " 107 conv    512       1 x 1/ 1     20 x  20 x1024 ->   20 x  20 x 512 0.419 BF\n",
      " 108 max                5x 5/ 1     20 x  20 x 512 ->   20 x  20 x 512 0.005 BF\n",
      " 109 route  107 \t\t                           ->   20 x  20 x 512 \n",
      " 110 max                9x 9/ 1     20 x  20 x 512 ->   20 x  20 x 512 0.017 BF\n",
      " 111 route  107 \t\t                           ->   20 x  20 x 512 \n",
      " 112 max               13x13/ 1     20 x  20 x 512 ->   20 x  20 x 512 0.035 BF\n",
      " 113 route  112 110 108 107 \t                   ->   20 x  20 x2048 \n",
      " 114 conv    512       1 x 1/ 1     20 x  20 x2048 ->   20 x  20 x 512 0.839 BF\n",
      " 115 conv   1024       3 x 3/ 1     20 x  20 x 512 ->   20 x  20 x1024 3.775 BF\n",
      " 116 conv    512       1 x 1/ 1     20 x  20 x1024 ->   20 x  20 x 512 0.419 BF\n",
      " 117 conv    256       1 x 1/ 1     20 x  20 x 512 ->   20 x  20 x 256 0.105 BF\n",
      " 118 upsample                 2x    20 x  20 x 256 ->   40 x  40 x 256\n",
      " 119 route  85 \t\t                           ->   40 x  40 x 512 \n",
      " 120 conv    256       1 x 1/ 1     40 x  40 x 512 ->   40 x  40 x 256 0.419 BF\n",
      " 121 route  120 118 \t                           ->   40 x  40 x 512 \n",
      " 122 conv    256       1 x 1/ 1     40 x  40 x 512 ->   40 x  40 x 256 0.419 BF\n",
      " 123 conv    512       3 x 3/ 1     40 x  40 x 256 ->   40 x  40 x 512 3.775 BF\n",
      " 124 conv    256       1 x 1/ 1     40 x  40 x 512 ->   40 x  40 x 256 0.419 BF\n",
      " 125 conv    512       3 x 3/ 1     40 x  40 x 256 ->   40 x  40 x 512 3.775 BF\n",
      " 126 conv    256       1 x 1/ 1     40 x  40 x 512 ->   40 x  40 x 256 0.419 BF\n",
      " 127 conv    128       1 x 1/ 1     40 x  40 x 256 ->   40 x  40 x 128 0.105 BF\n",
      " 128 upsample                 2x    40 x  40 x 128 ->   80 x  80 x 128\n",
      " 129 route  54 \t\t                           ->   80 x  80 x 256 \n",
      " 130 conv    128       1 x 1/ 1     80 x  80 x 256 ->   80 x  80 x 128 0.419 BF\n",
      " 131 route  130 128 \t                           ->   80 x  80 x 256 \n",
      " 132 conv    128       1 x 1/ 1     80 x  80 x 256 ->   80 x  80 x 128 0.419 BF\n",
      " 133 conv    256       3 x 3/ 1     80 x  80 x 128 ->   80 x  80 x 256 3.775 BF\n",
      " 134 conv    128       1 x 1/ 1     80 x  80 x 256 ->   80 x  80 x 128 0.419 BF\n",
      " 135 conv    256       3 x 3/ 1     80 x  80 x 128 ->   80 x  80 x 256 3.775 BF\n",
      " 136 conv    128       1 x 1/ 1     80 x  80 x 256 ->   80 x  80 x 128 0.419 BF\n",
      " 137 conv    256       3 x 3/ 1     80 x  80 x 128 ->   80 x  80 x 256 3.775 BF\n",
      " 138 conv     21       1 x 1/ 1     80 x  80 x 256 ->   80 x  80 x  21 0.069 BF\n",
      " 139 yolo\n",
      "[yolo] params: iou loss: ciou (4), iou_norm: 0.07, obj_norm: 1.00, cls_norm: 1.00, delta_norm: 1.00, scale_x_y: 1.20\n",
      "nms_kind: greedynms (1), beta = 0.600000 \n",
      " 140 route  136 \t\t                           ->   80 x  80 x 128 \n",
      " 141 conv    256       3 x 3/ 2     80 x  80 x 128 ->   40 x  40 x 256 0.944 BF\n",
      " 142 route  141 126 \t                           ->   40 x  40 x 512 \n",
      " 143 conv    256       1 x 1/ 1     40 x  40 x 512 ->   40 x  40 x 256 0.419 BF\n",
      " 144 conv    512       3 x 3/ 1     40 x  40 x 256 ->   40 x  40 x 512 3.775 BF\n",
      " 145 conv    256       1 x 1/ 1     40 x  40 x 512 ->   40 x  40 x 256 0.419 BF\n",
      " 146 conv    512       3 x 3/ 1     40 x  40 x 256 ->   40 x  40 x 512 3.775 BF\n",
      " 147 conv    256       1 x 1/ 1     40 x  40 x 512 ->   40 x  40 x 256 0.419 BF\n",
      " 148 conv    512       3 x 3/ 1     40 x  40 x 256 ->   40 x  40 x 512 3.775 BF\n",
      " 149 conv     21       1 x 1/ 1     40 x  40 x 512 ->   40 x  40 x  21 0.034 BF\n",
      " 150 yolo\n",
      "[yolo] params: iou loss: ciou (4), iou_norm: 0.07, obj_norm: 1.00, cls_norm: 1.00, delta_norm: 1.00, scale_x_y: 1.10\n",
      "nms_kind: greedynms (1), beta = 0.600000 \n",
      " 151 route  147 \t\t                           ->   40 x  40 x 256 \n",
      " 152 conv    512       3 x 3/ 2     40 x  40 x 256 ->   20 x  20 x 512 0.944 BF\n",
      " 153 route  152 116 \t                           ->   20 x  20 x1024 \n",
      " 154 conv    512       1 x 1/ 1     20 x  20 x1024 ->   20 x  20 x 512 0.419 BF\n",
      " 155 conv   1024       3 x 3/ 1     20 x  20 x 512 ->   20 x  20 x1024 3.775 BF\n",
      " 156 conv    512       1 x 1/ 1     20 x  20 x1024 ->   20 x  20 x 512 0.419 BF\n",
      " 157 conv   1024       3 x 3/ 1     20 x  20 x 512 ->   20 x  20 x1024 3.775 BF\n",
      " 158 conv    512       1 x 1/ 1     20 x  20 x1024 ->   20 x  20 x 512 0.419 BF\n",
      " 159 conv   1024       3 x 3/ 1     20 x  20 x 512 ->   20 x  20 x1024 3.775 BF\n",
      " 160 conv     21       1 x 1/ 1     20 x  20 x1024 ->   20 x  20 x  21 0.017 BF\n",
      " 161 yolo\n",
      "[yolo] params: iou loss: ciou (4), iou_norm: 0.07, obj_norm: 1.00, cls_norm: 1.00, delta_norm: 1.00, scale_x_y: 1.05\n",
      "nms_kind: greedynms (1), beta = 0.600000 \n",
      "Total BFLOPS 140.995 \n",
      "avg_outputs = 1159550 \n",
      " Allocate additional workspace_size = 134.22 MB \n",
      "Loading weights from /content/gdrive/MyDrive/yolov4/training/yolov4-custom_best.weights...\n",
      " seen 64, trained: 102 K-images (1 Kilo-batches_64) \n",
      "Done! Loaded 162 layers from weights-file \n",
      "\n",
      " calculation mAP (mean average precision)...\n",
      " Detection layer: 139 - type = 28 \n",
      " Detection layer: 150 - type = 28 \n",
      " Detection layer: 161 - type = 28 \n",
      "100\n",
      " detections_count = 252, unique_truth_count = 133  \n",
      "class_id = 0, name = with_mask, ap = 97.40%   \t (TP = 118, FP = 6) \n",
      "class_id = 1, name = without_mask, ap = 100.00%   \t (TP = 10, FP = 2) \n",
      "\n",
      " for conf_thresh = 0.25, precision = 0.94, recall = 0.96, F1-score = 0.95 \n",
      " for conf_thresh = 0.25, TP = 128, FP = 8, FN = 5, average IoU = 73.93 % \n",
      "\n",
      " IoU threshold = 50 %, used Area-Under-Curve for each unique Recall \n",
      " mean average precision (mAP@0.50) = 0.987005, or 98.70 % \n",
      "Total Detection Time: 41 Seconds\n",
      "\n",
      "Set -points flag:\n",
      " `-points 101` for MS COCO \n",
      " `-points 11` for PascalVOC 2007 (uncomment `difficult` in voc.data) \n",
      " `-points 0` (AUC) for ImageNet, PascalVOC 2010-2012, your custom dataset\n"
     ]
    }
   ],
   "source": [
    "# test mAP \n",
    "!./darknet detector map data/obj.data data/yolov4-custom.cfg /content/gdrive/MyDrive/yolov4/training/yolov4-custom_best.weights"
   ]
  },
  {
   "cell_type": "code",
   "execution_count": null,
   "metadata": {
    "id": "76bL4aCiKu7A"
   },
   "outputs": [],
   "source": [
    "# run your custom detector on a video with this command (upload a video to your google drive to test, the thresh flag sets the minimum accuracy required for object detection).This saves the output video with the detections in your output path\n",
    "\n",
    "!./darknet detector demo data/obj.data data/yolov4-custom.cfg /content/gdrive/MyDrive/yolov4/training/yolov4-custom_best.weights -dont_show /content/gdrive/MyDrive/yolov4/darknet/test_video/inference_video.mp4 -i 0 -out_filename /content/gdrive/MyDrive/yolov4/darknet/test_video/Predicted_inference_video.mp4 "
   ]
  }
 ],
 "metadata": {
  "accelerator": "GPU",
  "colab": {
   "provenance": []
  },
  "kernelspec": {
   "display_name": "Python 3 (ipykernel)",
   "language": "python",
   "name": "python3"
  },
  "language_info": {
   "codemirror_mode": {
    "name": "ipython",
    "version": 3
   },
   "file_extension": ".py",
   "mimetype": "text/x-python",
   "name": "python",
   "nbconvert_exporter": "python",
   "pygments_lexer": "ipython3",
   "version": "3.9.13"
  }
 },
 "nbformat": 4,
 "nbformat_minor": 1
}
